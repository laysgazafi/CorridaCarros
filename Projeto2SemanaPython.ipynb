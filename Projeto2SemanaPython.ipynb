{
 "cells": [
  {
   "cell_type": "markdown",
   "id": "bb9b1ef0",
   "metadata": {},
   "source": [
    "# Problema \n",
    "\n",
    "- Passo 1: Buscar informações de forma automática no site Yahoo Finanças;\n",
    "- Passo 2: Gerar análises;\n",
    "- Passo 3: Enviar e-mail com os resultados da análise."
   ]
  },
  {
   "cell_type": "markdown",
   "id": "fc5c139c",
   "metadata": {},
   "source": [
    "# Passo 1"
   ]
  },
  {
   "cell_type": "code",
   "execution_count": 1,
   "id": "c58f6ad6",
   "metadata": {},
   "outputs": [
    {
     "name": "stdout",
     "output_type": "stream",
     "text": [
      "Requirement already satisfied: yfinance in c:\\users\\laysgazafi\\anaconda3\\lib\\site-packages (0.1.75)\n",
      "Requirement already satisfied: requests>=2.26 in c:\\users\\laysgazafi\\anaconda3\\lib\\site-packages (from yfinance) (2.27.1)\n",
      "Requirement already satisfied: pandas>=0.24.0 in c:\\users\\laysgazafi\\anaconda3\\lib\\site-packages (from yfinance) (1.4.2)\n",
      "Requirement already satisfied: numpy>=1.15 in c:\\users\\laysgazafi\\anaconda3\\lib\\site-packages (from yfinance) (1.21.5)\n",
      "Requirement already satisfied: multitasking>=0.0.7 in c:\\users\\laysgazafi\\anaconda3\\lib\\site-packages (from yfinance) (0.0.11)\n",
      "Requirement already satisfied: lxml>=4.5.1 in c:\\users\\laysgazafi\\anaconda3\\lib\\site-packages (from yfinance) (4.8.0)\n",
      "Requirement already satisfied: appdirs>=1.4.4 in c:\\users\\laysgazafi\\anaconda3\\lib\\site-packages (from yfinance) (1.4.4)\n",
      "Requirement already satisfied: python-dateutil>=2.8.1 in c:\\users\\laysgazafi\\anaconda3\\lib\\site-packages (from pandas>=0.24.0->yfinance) (2.8.2)\n",
      "Requirement already satisfied: pytz>=2020.1 in c:\\users\\laysgazafi\\anaconda3\\lib\\site-packages (from pandas>=0.24.0->yfinance) (2021.3)\n",
      "Requirement already satisfied: six>=1.5 in c:\\users\\laysgazafi\\anaconda3\\lib\\site-packages (from python-dateutil>=2.8.1->pandas>=0.24.0->yfinance) (1.16.0)\n",
      "Requirement already satisfied: certifi>=2017.4.17 in c:\\users\\laysgazafi\\anaconda3\\lib\\site-packages (from requests>=2.26->yfinance) (2021.10.8)\n",
      "Requirement already satisfied: urllib3<1.27,>=1.21.1 in c:\\users\\laysgazafi\\anaconda3\\lib\\site-packages (from requests>=2.26->yfinance) (1.26.9)\n",
      "Requirement already satisfied: charset-normalizer~=2.0.0 in c:\\users\\laysgazafi\\anaconda3\\lib\\site-packages (from requests>=2.26->yfinance) (2.0.4)\n",
      "Requirement already satisfied: idna<4,>=2.5 in c:\\users\\laysgazafi\\anaconda3\\lib\\site-packages (from requests>=2.26->yfinance) (3.3)\n"
     ]
    }
   ],
   "source": [
    "!pip install yfinance \n",
    "import yfinance "
   ]
  },
  {
   "cell_type": "code",
   "execution_count": 2,
   "id": "c8eedb9d",
   "metadata": {},
   "outputs": [
    {
     "name": "stdout",
     "output_type": "stream",
     "text": [
      "Digite o código da ação desejada: PETR4.SA\n"
     ]
    },
    {
     "data": {
      "text/plain": [
       "<AxesSubplot:xlabel='Date'>"
      ]
     },
     "execution_count": 2,
     "metadata": {},
     "output_type": "execute_result"
    },
    {
     "data": {
      "image/png": "[encoded data removed]",
      "text/plain": [
       "<Figure size 432x288 with 1 Axes>"
      ]
     },
     "metadata": {
      "needs_background": "light"
     },
     "output_type": "display_data"
    }
   ],
   "source": [
    "ticker = input(\"Digite o código da ação desejada: \")\n",
    "\n",
    "dados = yfinance.Ticker(\"PETR4.SA\") #colocando os dados na variável dados\n",
    "\n",
    "tabela = dados.history(\"6mo\") #definindo o tempo dos dados, nesse caso 6 meses e colocando na variável tabela\n",
    "fechamento = tabela.Close #fechamento é apenas a coluna Close\n",
    "\n",
    "fechamento.plot() #plotando gráfico para visualização"
   ]
  },
  {
   "cell_type": "code",
   "execution_count": 3,
   "id": "5bfd19f4",
   "metadata": {},
   "outputs": [
    {
     "name": "stdout",
     "output_type": "stream",
     "text": [
      "37.720001220703125\n",
      "21.407672882080078\n",
      "33.439998626708984\n"
     ]
    }
   ],
   "source": [
    "maxima = fechamento.max() #definindo cotação máxima\n",
    "minima = fechamento.min() #definindo cotação mínima\n",
    "atual = fechamento[-1] #cotação atual\n",
    "\n",
    "print(maxima)\n",
    "print(minima)\n",
    "print(atual)"
   ]
  },
  {
   "cell_type": "markdown",
   "id": "04b56d6a",
   "metadata": {},
   "source": [
    "# Passo 3 - Enviar e-mail de forma automática\n",
    "\n",
    "- Abrir uma nova aba no navegador e escrever o endereço do gmail;\n",
    "- Clicar no botão escrever;\n",
    "- Preencher destinatário e assunto;\n",
    "- Escrever o e-mail;\n",
    "- Clicar em enviar."
   ]
  },
  {
   "cell_type": "code",
   "execution_count": 4,
   "id": "bc525ccd",
   "metadata": {},
   "outputs": [
    {
     "name": "stdout",
     "output_type": "stream",
     "text": [
      "Requirement already satisfied: pyautogui in c:\\users\\laysgazafi\\anaconda3\\lib\\site-packages (0.9.53)\n",
      "Requirement already satisfied: PyTweening>=1.0.1 in c:\\users\\laysgazafi\\anaconda3\\lib\\site-packages (from pyautogui) (1.0.4)\n",
      "Requirement already satisfied: pyscreeze>=0.1.21 in c:\\users\\laysgazafi\\anaconda3\\lib\\site-packages (from pyautogui) (0.1.28)\n",
      "Requirement already satisfied: mouseinfo in c:\\users\\laysgazafi\\anaconda3\\lib\\site-packages (from pyautogui) (0.1.3)\n",
      "Requirement already satisfied: pymsgbox in c:\\users\\laysgazafi\\anaconda3\\lib\\site-packages (from pyautogui) (1.0.9)\n",
      "Requirement already satisfied: pygetwindow>=0.0.5 in c:\\users\\laysgazafi\\anaconda3\\lib\\site-packages (from pyautogui) (0.0.9)\n",
      "Requirement already satisfied: pyrect in c:\\users\\laysgazafi\\anaconda3\\lib\\site-packages (from pygetwindow>=0.0.5->pyautogui) (0.2.0)\n",
      "Requirement already satisfied: pyperclip in c:\\users\\laysgazafi\\anaconda3\\lib\\site-packages (from mouseinfo->pyautogui) (1.8.2)\n"
     ]
    }
   ],
   "source": [
    "!pip install pyautogui"
   ]
  },
  {
   "cell_type": "code",
   "execution_count": 5,
   "id": "4fc48afc",
   "metadata": {},
   "outputs": [
    {
     "name": "stdout",
     "output_type": "stream",
     "text": [
      "Requirement already satisfied: pyperclip in c:\\users\\laysgazafi\\anaconda3\\lib\\site-packages (1.8.2)\n"
     ]
    }
   ],
   "source": [
    "!pip install pyperclip"
   ]
  },
  {
   "cell_type": "code",
   "execution_count": 12,
   "id": "99de26c8",
   "metadata": {},
   "outputs": [],
   "source": [
    "import pyautogui\n",
    "import pyperclip"
   ]
  },
  {
   "cell_type": "code",
   "execution_count": 43,
   "id": "39208658",
   "metadata": {},
   "outputs": [],
   "source": [
    "pyautogui.PAUSE = 2\n",
    "\n",
    "pyautogui.hotkey(\"ctrl\", \"t\")\n",
    "pyperclip.copy(\"www.gmail.com\")\n",
    "pyautogui.hotkey(\"ctrl\", \"v\")\n",
    "pyautogui.hotkey(\"enter\")\n",
    "\n",
    "pyautogui.click(x=77, y=162)\n",
    "\n",
    "pyperclip.copy(\"gazafiv@hotmail.com\")\n",
    "pyautogui.hotkey(\"ctrl\", \"v\")\n",
    "pyautogui.hotkey(\"tab\")\n",
    "\n",
    "pyperclip.copy(\"Teste Automação Python\")\n",
    "pyautogui.hotkey(\"ctrl\", \"v\")\n",
    "pyautogui.hotkey(\"tab\")\n",
    "\n",
    "mensagem = f\"\"\"\"Bom dia,\n",
    "\n",
    "Seguem as análises dos últimos 6 meses da ação {ticker}: \n",
    "\n",
    "Cotação máxima: R$ {round(maxima, 2)}\n",
    "Cotação mínima: R$ {round(minima, 2)}\n",
    "Cotação atual: R$ {round(atual, 2)}\n",
    "\n",
    "Qualquer dúvida, estou à disposição!\n",
    "    \n",
    "Atenciosamente,\n",
    "Lays\"\"\"\n",
    "pyperclip.copy(mensagem)\n",
    "pyautogui.hotkey(\"ctrl\", \"v\")\n",
    "\n",
    "pyautogui.click(x=842, y=692)"
   ]
  },
  {
   "cell_type": "code",
   "execution_count": 18,
   "id": "e8837cfd",
   "metadata": {},
   "outputs": [
    {
     "data": {
      "text/plain": [
       "Point(x=77, y=162)"
      ]
     },
     "execution_count": 18,
     "metadata": {},
     "output_type": "execute_result"
    }
   ],
   "source": [
    "import time\n",
    "\n",
    "time.sleep(5)\n",
    "pyautogui.position()"
   ]
  },
  {
   "cell_type": "code",
   "execution_count": 33,
   "id": "bb2c361d",
   "metadata": {},
   "outputs": [
    {
     "data": {
      "text/plain": [
       "Point(x=842, y=692)"
      ]
     },
     "execution_count": 33,
     "metadata": {},
     "output_type": "execute_result"
    }
   ],
   "source": [
    "import time\n",
    "\n",
    "time.sleep(5)\n",
    "pyautogui.position()"
   ]
  },
  {
   "cell_type": "code",
   "execution_count": null,
   "id": "0a8d4942",
   "metadata": {},
   "outputs": [],
   "source": []
  }
 ],
 "metadata": {
  "kernelspec": {
   "display_name": "Python 3 (ipykernel)",
   "language": "python",
   "name": "python3"
  },
  "language_info": {
   "codemirror_mode": {
    "name": "ipython",
    "version": 3
   },
   "file_extension": ".py",
   "mimetype": "text/x-python",
   "name": "python",
   "nbconvert_exporter": "python",
   "pygments_lexer": "ipython3",
   "version": "3.9.12"
  },
  "vscode": {
   "interpreter": {
    "hash": "5136ced93bb1917ebff9e31f826fd7c3a8be35da099f9f8dc011831119608946"
   }
  }
 },
 "nbformat": 4,
 "nbformat_minor": 5
}
